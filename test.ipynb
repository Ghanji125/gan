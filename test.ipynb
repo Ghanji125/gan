{
 "cells": [
  {
   "cell_type": "code",
   "execution_count": 21,
   "metadata": {},
   "outputs": [],
   "source": [
    "from IPython.core.interactiveshell import InteractiveShell\n",
    "InteractiveShell.ast_node_interactivity = \"all\""
   ]
  },
  {
   "cell_type": "markdown",
   "metadata": {},
   "source": [
    "#### Markdown notebook\n",
    "\n",
    "https://www.jianshu.com/p/8c1b2b39deb0\n",
    "\n"
   ]
  },
  {
   "cell_type": "code",
   "execution_count": 1,
   "metadata": {},
   "outputs": [
    {
     "name": "stdout",
     "output_type": "stream",
     "text": [
      "Import OK!\n"
     ]
    }
   ],
   "source": [
    "import tensorflow\n",
    "import numpy\n",
    "import pandas\n",
    "import matplotlib\n",
    "import sklearn\n",
    "print (\"Import OK!\")"
   ]
  },
  {
   "cell_type": "code",
   "execution_count": 2,
   "metadata": {},
   "outputs": [],
   "source": [
    "import sklearn"
   ]
  },
  {
   "cell_type": "code",
   "execution_count": 3,
   "metadata": {},
   "outputs": [],
   "source": [
    "#!usr/bin/python\n",
    "#encoding = utf-8\n",
    "import warnings\n",
    "import numpy as np\n",
    "import pandas as pd\n",
    "import matplotlib.pyplot as plt\n",
    "import sklearn\n",
    "%matplotlib inline\n"
   ]
  },
  {
   "cell_type": "code",
   "execution_count": 80,
   "metadata": {},
   "outputs": [
    {
     "name": "stdout",
     "output_type": "stream",
     "text": [
      "Please input your name:Apple\n",
      "Please input your age:2\n",
      "You are Apple, and your age is 2!\n",
      "You are Apple, and your age is 2!\n",
      "You are {name}, and your age is {age}!\n",
      "You are Apple, and your age is 2!\n"
     ]
    }
   ],
   "source": [
    "name = input(\"Please input your name:\")\n",
    "age = input(\"Please input your age:\")\n",
    "\n",
    "print(\"You are {}, and your age is {}!\".format(name,age))\n",
    "print(\"You are {1}, and your age is {0}!\".format(age,name))\n",
    "print(\"You are {name}, and your age is {age}!\")\n",
    "print(f\"You are {name}, and your age is {age}!\")\n"
   ]
  },
  {
   "cell_type": "code",
   "execution_count": 13,
   "metadata": {},
   "outputs": [
    {
     "name": "stdout",
     "output_type": "stream",
     "text": [
      "n=  123\n",
      "f=  456 789\n",
      "mm=sdsdsdsd\n",
      "s1= 'Hello,world'\n",
      "s2='Hello,\\'Adam\\''\n",
      "s3=r'Hello,\"Bart\"'\n",
      "s4=r'''Hello,\n",
      "Lisa!'''\n",
      "'Wowoo!!!'Wowoo!!!\n",
      "'Wowoo!!!2\n"
     ]
    }
   ],
   "source": [
    "print('n= ',123)\n",
    "print('f= ',456,789)\n",
    "print('mm='      'sdsdsdsd')\n",
    "print('s1=','\\'Hello,world\\'')\n",
    "print('s2=\\'Hello,\\\\\\'Adam\\\\\\'\\'')\n",
    "print('s3=r\\'Hello,\"Bart\"\\'')\n",
    "print('s4=r\\'\\'\\'Hello,\\nLisa!\\'\\'\\'')\n",
    "print(\"'Wowoo!!!\"*2)\n",
    "print(\"'Wowoo!!!\"+\"2\")\n"
   ]
  },
  {
   "cell_type": "code",
   "execution_count": 15,
   "metadata": {},
   "outputs": [
    {
     "name": "stdout",
     "output_type": "stream",
     "text": [
      "1 : a\n",
      "2 : b\n"
     ]
    }
   ],
   "source": [
    "lis = []\n",
    "tupl = ()\n",
    "tup = (1,)\n",
    "dic = {1:'a',2:'b'}\n",
    "for k,v in dic.items():\n",
    "    print(k,\":\",v)"
   ]
  },
  {
   "cell_type": "code",
   "execution_count": 14,
   "metadata": {},
   "outputs": [
    {
     "name": "stdout",
     "output_type": "stream",
     "text": [
      "92\n",
      "(68, 87, 92, 100, 76, 88)\n"
     ]
    }
   ],
   "source": [
    "score = (68,87,92,100,76,88,54,89,76,61)\n",
    "print(score[2])\n",
    "print(score[0:6])"
   ]
  },
  {
   "cell_type": "code",
   "execution_count": 8,
   "metadata": {},
   "outputs": [
    {
     "name": "stdout",
     "output_type": "stream",
     "text": [
      "7 73 273\n",
      "0b1101111 0o157 0x6f\n"
     ]
    }
   ],
   "source": [
    "bin2 = int(0b111)\n",
    "oct2 = int(0o111)\n",
    "hex2 = int(0x111)\n",
    "print(bin2,oct2,hex2)\n",
    "B2 = bin(111)\n",
    "O2 = oct(111)\n",
    "X2 = hex(111)\n",
    "print(B2,O2,X2)"
   ]
  },
  {
   "cell_type": "markdown",
   "metadata": {},
   "source": [
    "### Data Type\n",
    "#### Integer (int)\n",
    "#### Float (float)\n",
    "#### Boolean (bool)\n",
    "#### String (str)"
   ]
  },
  {
   "cell_type": "markdown",
   "metadata": {},
   "source": [
    "### Maths\n",
    "\"+ - * / ** %(...n) //(n...) \"\n",
    "\n",
    "### Conditions"
   ]
  },
  {
   "cell_type": "code",
   "execution_count": 13,
   "metadata": {},
   "outputs": [
    {
     "name": "stdout",
     "output_type": "stream",
     "text": [
      "combine.cc\n",
      "duplicate!duplicate!\n"
     ]
    }
   ],
   "source": [
    "#string  + --> combine      * --> duplicate\n",
    "print(\"combine.\"+\"cc\")\n",
    "print(\"duplicate!\"*2)"
   ]
  },
  {
   "cell_type": "code",
   "execution_count": 19,
   "metadata": {},
   "outputs": [
    {
     "name": "stdout",
     "output_type": "stream",
     "text": [
      "abcdefghijklmnopqrstuvwxyz\n",
      "d\n",
      "defghijklmnopqrstuvwxyz\n",
      "abc\n",
      "dgjmpsvy\n",
      "x\n",
      "abcdefghijklmnopqrstuvw\n",
      "xyz\n"
     ]
    }
   ],
   "source": [
    "#extract & slice [start:end:step]\n",
    "letters = \"abcdefghijklmnopqrstuvwxyz\"\n",
    "print(letters)\n",
    "print(letters[3])\n",
    "print(letters[3:])\n",
    "print(letters[:3])\n",
    "print(letters[3::3])\n",
    "print(letters[-3])\n",
    "print(letters[:-3])\n",
    "print(letters[-3:])"
   ]
  },
  {
   "cell_type": "code",
   "execution_count": 25,
   "metadata": {},
   "outputs": [
    {
     "data": {
      "text/plain": [
       "['a', 'b', 'c', 'd', '%', 'e']"
      ]
     },
     "execution_count": 25,
     "metadata": {},
     "output_type": "execute_result"
    }
   ],
   "source": [
    "#split --> .split()\n",
    "string = \"a b c d     % e\"\n",
    "string.split()"
   ]
  },
  {
   "cell_type": "code",
   "execution_count": 26,
   "metadata": {},
   "outputs": [
    {
     "data": {
      "text/plain": [
       "'a-b-c-d-%-e'"
      ]
     },
     "execution_count": 26,
     "metadata": {},
     "output_type": "execute_result"
    }
   ],
   "source": [
    "#combine --> .join()\n",
    "lis = \"a b c d  % e\"\n",
    "elements = lis.split()\n",
    "\"-\".join(elements)"
   ]
  },
  {
   "cell_type": "code",
   "execution_count": 27,
   "metadata": {},
   "outputs": [
    {
     "data": {
      "text/plain": [
       "'There are words!'"
      ]
     },
     "execution_count": 27,
     "metadata": {},
     "output_type": "execute_result"
    }
   ],
   "source": [
    "#substitue --> .replace()\n",
    "string = \"There is a word!\"\n",
    "string.replace(\"is a word\",\"are words\")"
   ]
  },
  {
   "cell_type": "code",
   "execution_count": 34,
   "metadata": {},
   "outputs": [
    {
     "name": "stdout",
     "output_type": "stream",
     "text": [
      "                learn how to align                \n",
      "                                learn how to align\n",
      "learn how to align                                \n",
      "                                         learn how to align                                         \n",
      "                                                                                  learn how to align\n",
      "learn how to align                                                                                  \n",
      "                                                learn how to align\n",
      "learn how to align\n"
     ]
    }
   ],
   "source": [
    "#layout --> .center() // .rjust() //  .hjust()\n",
    "align = \"learn how to align\"\n",
    "print(align.center(50))\n",
    "print(align.rjust(50))\n",
    "print(align.ljust(50))\n",
    "print(align.center(100))\n",
    "print(align.rjust(100))\n",
    "print(align.ljust(100))\n",
    "ralign = align.rjust(66)\n",
    "print(ralign)\n",
    "print(ralign.strip())"
   ]
  },
  {
   "cell_type": "code",
   "execution_count": 47,
   "metadata": {},
   "outputs": [
    {
     "data": {
      "text/plain": [
       "False"
      ]
     },
     "execution_count": 47,
     "metadata": {},
     "output_type": "execute_result"
    }
   ],
   "source": [
    "#other useful tools\n",
    "py_descriptions = \"Python: Python is a programming language that lets you work quickly and integrate systems more effectively!\"\n",
    "py_descriptions.startswith(\"p\")"
   ]
  },
  {
   "cell_type": "code",
   "execution_count": 48,
   "metadata": {},
   "outputs": [
    {
     "data": {
      "text/plain": [
       "True"
      ]
     },
     "execution_count": 48,
     "metadata": {},
     "output_type": "execute_result"
    }
   ],
   "source": [
    "py_descriptions.endswith(\"!\")"
   ]
  },
  {
   "cell_type": "code",
   "execution_count": 49,
   "metadata": {},
   "outputs": [
    {
     "data": {
      "text/plain": [
       "15"
      ]
     },
     "execution_count": 49,
     "metadata": {},
     "output_type": "execute_result"
    }
   ],
   "source": [
    "py_descriptions.find(\"i\")"
   ]
  },
  {
   "cell_type": "code",
   "execution_count": 50,
   "metadata": {},
   "outputs": [
    {
     "data": {
      "text/plain": [
       "False"
      ]
     },
     "execution_count": 50,
     "metadata": {},
     "output_type": "execute_result"
    }
   ],
   "source": [
    "py_descriptions.isalnum()  #.isalpha() // .isdecimal() // .isdigit() // .isdentifier() // .islower() // .isupper() // .isnumeric()..."
   ]
  },
  {
   "cell_type": "code",
   "execution_count": 51,
   "metadata": {},
   "outputs": [
    {
     "data": {
      "text/plain": [
       "9"
      ]
     },
     "execution_count": 51,
     "metadata": {},
     "output_type": "execute_result"
    }
   ],
   "source": [
    "py_descriptions.count(\"t\")"
   ]
  },
  {
   "cell_type": "code",
   "execution_count": 55,
   "metadata": {},
   "outputs": [
    {
     "data": {
      "text/plain": [
       "'Python: Python is a programming language that lets you work quickly and integrate systems more effectively'"
      ]
     },
     "execution_count": 55,
     "metadata": {},
     "output_type": "execute_result"
    }
   ],
   "source": [
    "py_descriptions.strip(\"!\")"
   ]
  },
  {
   "cell_type": "code",
   "execution_count": 53,
   "metadata": {},
   "outputs": [
    {
     "data": {
      "text/plain": [
       "'PYTHON: PYTHON IS A PROGRAMMING LANGUAGE THAT LETS YOU WORK QUICKLY AND INTEGRATE SYSTEMS MORE EFFECTIVELY!'"
      ]
     },
     "execution_count": 53,
     "metadata": {},
     "output_type": "execute_result"
    }
   ],
   "source": [
    "py_descriptions.upper()"
   ]
  },
  {
   "cell_type": "code",
   "execution_count": 54,
   "metadata": {},
   "outputs": [
    {
     "data": {
      "text/plain": [
       "'Python: Python Is A Programming Language That Lets You Work Quickly And Integrate Systems More Effectively!'"
      ]
     },
     "execution_count": 54,
     "metadata": {},
     "output_type": "execute_result"
    }
   ],
   "source": [
    "py_descriptions.title()"
   ]
  },
  {
   "cell_type": "markdown",
   "metadata": {},
   "source": [
    "### Input : input() & Output : print()"
   ]
  },
  {
   "cell_type": "code",
   "execution_count": 57,
   "metadata": {},
   "outputs": [
    {
     "name": "stdout",
     "output_type": "stream",
     "text": [
      "Please input something!\n",
      "Apple\n",
      "Please input other things!\n",
      "Banana\n",
      "The first time input is 'Apple', the second time input is 'Banana'!\n",
      "The first time input is Apple, the second time input is Banana!\n"
     ]
    }
   ],
   "source": [
    "input_something = input(\"Please input something!\\n\")\n",
    "input_another_things = input(\"Please input other things!\\n\")\n",
    "print(\"The first time input is '%s', the second time input is '%s'!\"%(input_something,input_another_things))\n",
    "print(\"The first time input is {}, the second time input is {}!\".format(input_something,input_another_things))\n"
   ]
  },
  {
   "cell_type": "code",
   "execution_count": 61,
   "metadata": {},
   "outputs": [
    {
     "name": "stdout",
     "output_type": "stream",
     "text": [
      "Seconds in a day:  86400\n",
      "Seconds in a month (28 days):  2419200\n",
      "Seconds in a month (29 days):  2505600\n",
      "Seconds in a month (30 days):  2592000\n",
      "Seconds in a month (31 days):  2678400\n",
      "Seconds in a year (365 days):  31536000\n",
      "Seconds in a year (366 days):  31622400\n"
     ]
    }
   ],
   "source": [
    "seconds_per_hour = 60 * 60\n",
    "seconds_per_day = seconds_per_hour * 24\n",
    "seconds_per_month28 = seconds_per_day * 28\n",
    "seconds_per_month29 = seconds_per_day * 29\n",
    "seconds_per_month30 = seconds_per_day * 30\n",
    "seconds_per_month31 = seconds_per_day * 31\n",
    "seconds_per_year365 = seconds_per_day * 365\n",
    "seconds_per_year366 = seconds_per_day * 366\n",
    "\n",
    "print(\"Seconds in a day: \",seconds_per_day)\n",
    "print(\"Seconds in a month (28 days): \",seconds_per_month28)\n",
    "print(\"Seconds in a month (29 days): \",seconds_per_month29)\n",
    "print(\"Seconds in a month (30 days): \",seconds_per_month30)\n",
    "print(\"Seconds in a month (31 days): \",seconds_per_month31)\n",
    "print(\"Seconds in a year (365 days): \",seconds_per_year365)\n",
    "print(\"Seconds in a year (366 days): \",seconds_per_year366)\n"
   ]
  },
  {
   "cell_type": "code",
   "execution_count": 65,
   "metadata": {},
   "outputs": [
    {
     "name": "stdout",
     "output_type": "stream",
     "text": [
      "2019-03-10 18:16:15.147001\n",
      "<class 'datetime.datetime'>\n",
      "2019-03-10\n"
     ]
    }
   ],
   "source": [
    "from datetime import datetime\n",
    "now = datetime.now()\n",
    "print(now)\n",
    "print(type(now))\n",
    "time2str = now.strftime(\"%Y-%m-%d\")\n",
    "print(time2str)"
   ]
  },
  {
   "cell_type": "code",
   "execution_count": 71,
   "metadata": {},
   "outputs": [
    {
     "name": "stdout",
     "output_type": "stream",
     "text": [
      "2019-03-10 00:00:00\n",
      "<class 'datetime.datetime'>\n",
      "2019\n",
      "3\n",
      "10\n"
     ]
    }
   ],
   "source": [
    "str_time = \"2019-03-10\"\n",
    "str2time = datetime.strptime(str_time,\"%Y-%m-%d\")\n",
    "print(str2time)\n",
    "print(type(str2time))\n",
    "print(str2time.year)\n",
    "print(str2time.month)\n",
    "print(str2time.day)\n"
   ]
  },
  {
   "cell_type": "code",
   "execution_count": 73,
   "metadata": {},
   "outputs": [],
   "source": [
    "def main ():\n",
    "    \"\"\"\n",
    "    This is main function!\n",
    "    \"\"\"\n",
    "    pass\n",
    "\n",
    "if __name__ == \"__main__\":\n",
    "    main()\n"
   ]
  },
  {
   "cell_type": "code",
   "execution_count": 75,
   "metadata": {},
   "outputs": [
    {
     "name": "stdout",
     "output_type": "stream",
     "text": [
      "255 minutes before 0 o'clock is 20:15\n"
     ]
    }
   ],
   "source": [
    "#  x mintes = y hour z minute\n",
    "#255 minutes before 0 o'clock is:\n",
    "hour = 24 - (255 // 60)\n",
    "minute = 255 % 60\n",
    "print(\"255 minutes before 0 o'clock is {}:{}\".format(hour,minute))"
   ]
  },
  {
   "cell_type": "markdown",
   "metadata": {},
   "source": [
    "b * (1+r/100)^n"
   ]
  },
  {
   "cell_type": "code",
   "execution_count": null,
   "metadata": {},
   "outputs": [],
   "source": [
    "b*(1+r/100)**n"
   ]
  },
  {
   "cell_type": "markdown",
   "metadata": {},
   "source": [
    "sqrt((a\\*a+b\\*b)/b)"
   ]
  },
  {
   "cell_type": "code",
   "execution_count": 78,
   "metadata": {},
   "outputs": [
    {
     "data": {
      "text/plain": [
       "1.0"
      ]
     },
     "execution_count": 78,
     "metadata": {},
     "output_type": "execute_result"
    }
   ],
   "source": [
    "import math\n",
    "a = 3\n",
    "b = 4\n",
    "c = 5\n",
    "math.sqrt((a**2+b**2)/c**2)"
   ]
  },
  {
   "cell_type": "code",
   "execution_count": 81,
   "metadata": {},
   "outputs": [
    {
     "name": "stdout",
     "output_type": "stream",
     "text": [
      "100\n"
     ]
    },
    {
     "data": {
      "text/plain": [
       "3"
      ]
     },
     "execution_count": 81,
     "metadata": {},
     "output_type": "execute_result"
    }
   ],
   "source": [
    "int2str = str(100)\n",
    "print(int2str)\n",
    "len(int2str)"
   ]
  },
  {
   "cell_type": "code",
   "execution_count": 4,
   "metadata": {},
   "outputs": [
    {
     "name": "stdout",
     "output_type": "stream",
     "text": [
      "repeat!repeat!repeat!\n"
     ]
    }
   ],
   "source": [
    " def main():\n",
    "        a = 3\n",
    "        b = \"repeat!\"\n",
    "        print(b*a)\n",
    "\n",
    "if __name__ == \"__main__\":\n",
    "    main()"
   ]
  },
  {
   "cell_type": "code",
   "execution_count": 5,
   "metadata": {},
   "outputs": [
    {
     "data": {
      "text/plain": [
       "3"
      ]
     },
     "execution_count": 5,
     "metadata": {},
     "output_type": "execute_result"
    },
    {
     "data": {
      "text/plain": [
       "'repeat!'"
      ]
     },
     "execution_count": 5,
     "metadata": {},
     "output_type": "execute_result"
    }
   ],
   "source": [
    "a = 3\n",
    "b = \"repeat!\"\n",
    "a\n",
    "b"
   ]
  },
  {
   "cell_type": "markdown",
   "metadata": {},
   "source": [
    "#### List\n",
    "\n",
    "|list.append(\"element\")|\n",
    "|\"element\" in list|"
   ]
  },
  {
   "cell_type": "code",
   "execution_count": 15,
   "metadata": {},
   "outputs": [
    {
     "data": {
      "text/plain": [
       "['element', 'element1']"
      ]
     },
     "execution_count": 15,
     "metadata": {},
     "output_type": "execute_result"
    },
    {
     "data": {
      "text/plain": [
       "['element1']"
      ]
     },
     "execution_count": 15,
     "metadata": {},
     "output_type": "execute_result"
    },
    {
     "data": {
      "text/plain": [
       "['element1', 'element3']"
      ]
     },
     "execution_count": 15,
     "metadata": {},
     "output_type": "execute_result"
    },
    {
     "data": {
      "text/plain": [
       "['element1', 'element3', 'element4']"
      ]
     },
     "execution_count": 15,
     "metadata": {},
     "output_type": "execute_result"
    },
    {
     "data": {
      "text/plain": [
       "False"
      ]
     },
     "execution_count": 15,
     "metadata": {},
     "output_type": "execute_result"
    },
    {
     "data": {
      "text/plain": [
       "True"
      ]
     },
     "execution_count": 15,
     "metadata": {},
     "output_type": "execute_result"
    },
    {
     "data": {
      "text/plain": [
       "['element1', 'element', 'element3', 'element4']"
      ]
     },
     "execution_count": 15,
     "metadata": {},
     "output_type": "execute_result"
    },
    {
     "data": {
      "text/plain": [
       "2"
      ]
     },
     "execution_count": 15,
     "metadata": {},
     "output_type": "execute_result"
    },
    {
     "data": {
      "text/plain": [
       "'element4'"
      ]
     },
     "execution_count": 15,
     "metadata": {},
     "output_type": "execute_result"
    },
    {
     "data": {
      "text/plain": [
       "'element3'"
      ]
     },
     "execution_count": 15,
     "metadata": {},
     "output_type": "execute_result"
    },
    {
     "data": {
      "text/plain": [
       "['element1', 'element']"
      ]
     },
     "execution_count": 15,
     "metadata": {},
     "output_type": "execute_result"
    }
   ],
   "source": [
    "#list delete  && expand\n",
    "lst = [\"element\",\"element1\",\"element2\"]\n",
    "del lst[-1]\n",
    "lst\n",
    "lst.remove(\"element\")\n",
    "lst\n",
    "lst.append(\"element3\")\n",
    "lst\n",
    "lst = lst + [\"element4\"]\n",
    "lst\n",
    "\"element\" in lst\n",
    "\"element\" not in lst\n",
    "lst.insert(1,\"element\")\n",
    "lst\n",
    "lst.index(\"element3\")\n",
    "lst.pop()\n",
    "lst.pop(2)\n",
    "lst"
   ]
  },
  {
   "cell_type": "code",
   "execution_count": 28,
   "metadata": {},
   "outputs": [],
   "source": [
    "from time import clock\n",
    "def timer(f):\n",
    "    def _f(*args):\n",
    "        t0 = clock()\n",
    "        f(*args)\n",
    "        return clock() - t0\n",
    "    return _f\n"
   ]
  },
  {
   "cell_type": "code",
   "execution_count": 31,
   "metadata": {},
   "outputs": [
    {
     "data": {
      "text/plain": [
       "0.007074436312080934"
      ]
     },
     "execution_count": 31,
     "metadata": {},
     "output_type": "execute_result"
    },
    {
     "data": {
      "text/plain": [
       "1.5421674959270604e-06"
      ]
     },
     "execution_count": 31,
     "metadata": {},
     "output_type": "execute_result"
    }
   ],
   "source": [
    "def delete_element(list,index):\n",
    "    del list[index]\n",
    "\n",
    "listx = [\"A\"]*10000000\n",
    "timer(delete_element)(listx,0)\n",
    "timer(delete_element)(listx,-1)"
   ]
  },
  {
   "cell_type": "code",
   "execution_count": 11,
   "metadata": {},
   "outputs": [
    {
     "name": "stdout",
     "output_type": "stream",
     "text": [
      "[1, 2, 3, 4, 5]\n",
      "[5, 4, 3, 2, 1]\n"
     ]
    }
   ],
   "source": [
    "#Sort   list.sort()  vs sorted(lsit)\n",
    "lst = [2,1,5,3,4]\n",
    "lst.sort()\n",
    "print(lst)\n",
    "lst.sort(reverse=True)\n",
    "print(lst)"
   ]
  },
  {
   "cell_type": "code",
   "execution_count": 10,
   "metadata": {},
   "outputs": [
    {
     "name": "stdout",
     "output_type": "stream",
     "text": [
      "[2, 1, 5, 3, 4]\n",
      "[1, 2, 3, 4, 5]\n"
     ]
    }
   ],
   "source": [
    "#Sort   list.sort()  vs sorted(lsit)\n",
    "lst = [2,1,5,3,4]\n",
    "new_lst = sorted(lst)\n",
    "print(lst)\n",
    "print(new_lst)"
   ]
  },
  {
   "cell_type": "code",
   "execution_count": 14,
   "metadata": {},
   "outputs": [
    {
     "name": "stdout",
     "output_type": "stream",
     "text": [
      "['1', '2', '3', '4', '5', '6', '7', '8', '9', 'S', 'g', 'i', 'n', 'r', 't']\n"
     ]
    },
    {
     "data": {
      "text/plain": [
       "list"
      ]
     },
     "execution_count": 14,
     "metadata": {},
     "output_type": "execute_result"
    }
   ],
   "source": [
    "lst = sorted(\"String123698745\")\n",
    "print(lst)\n",
    "type(lst)"
   ]
  },
  {
   "cell_type": "code",
   "execution_count": 15,
   "metadata": {},
   "outputs": [
    {
     "name": "stdout",
     "output_type": "stream",
     "text": [
      "123456789Sginrt\n"
     ]
    },
    {
     "data": {
      "text/plain": [
       "str"
      ]
     },
     "execution_count": 15,
     "metadata": {},
     "output_type": "execute_result"
    }
   ],
   "source": [
    "string = \"\".join(sorted(\"String123698745\"))\n",
    "print(string)\n",
    "type(string)"
   ]
  },
  {
   "cell_type": "code",
   "execution_count": 24,
   "metadata": {},
   "outputs": [
    {
     "data": {
      "text/plain": [
       "[1, 55, 3, 4, 5]"
      ]
     },
     "execution_count": 24,
     "metadata": {},
     "output_type": "execute_result"
    },
    {
     "data": {
      "text/plain": [
       "[1, 55, 3, 4, 5]"
      ]
     },
     "execution_count": 24,
     "metadata": {},
     "output_type": "execute_result"
    }
   ],
   "source": [
    "#assign vs copy\n",
    "a = [1,2,3,4,5]\n",
    "b = a #assign\n",
    "a[1] =55\n",
    "a\n",
    "b"
   ]
  },
  {
   "cell_type": "code",
   "execution_count": 30,
   "metadata": {},
   "outputs": [
    {
     "data": {
      "text/plain": [
       "[1, 55, 3, 4, 5]"
      ]
     },
     "execution_count": 30,
     "metadata": {},
     "output_type": "execute_result"
    },
    {
     "data": {
      "text/plain": [
       "[1, 2, 3, 4, 5]"
      ]
     },
     "execution_count": 30,
     "metadata": {},
     "output_type": "execute_result"
    },
    {
     "data": {
      "text/plain": [
       "[1, 2, 3, 4, 5]"
      ]
     },
     "execution_count": 30,
     "metadata": {},
     "output_type": "execute_result"
    },
    {
     "data": {
      "text/plain": [
       "[1, 2, 3, 4, 5]"
      ]
     },
     "execution_count": 30,
     "metadata": {},
     "output_type": "execute_result"
    }
   ],
   "source": [
    "#assign vs copy\n",
    "a = [1,2,3,4,5]\n",
    "b =  a.copy()\n",
    "c = a[:]\n",
    "d = list(a)\n",
    "a[1] =55\n",
    "a\n",
    "b\n",
    "c\n",
    "d"
   ]
  },
  {
   "cell_type": "code",
   "execution_count": 33,
   "metadata": {},
   "outputs": [
    {
     "data": {
      "text/plain": [
       "{1, 2, 3, 4, 5, 6}"
      ]
     },
     "execution_count": 33,
     "metadata": {},
     "output_type": "execute_result"
    },
    {
     "name": "stdout",
     "output_type": "stream",
     "text": [
      "1\n",
      "2\n",
      "3\n",
      "4\n",
      "5\n",
      "6\n"
     ]
    }
   ],
   "source": [
    "#dictionary  == %hash  {key:value,...}\n",
    "#set  == {key,key,...}   #immutable;can not be indexed\n",
    "empty_dict_define = {}\n",
    "empty_set_define = set()\n",
    "even_set = {5,2,3,4,5,6,1}\n",
    "even_set\n",
    "for i in even_set:\n",
    "    print(i)"
   ]
  },
  {
   "cell_type": "code",
   "execution_count": null,
   "metadata": {},
   "outputs": [],
   "source": [
    "# bool\n",
    "and (&) or (|) not (!)  ^(亦或: 0^1 = 1^0 = 1 ; 0^0 = 1^1 = 0)"
   ]
  },
  {
   "cell_type": "code",
   "execution_count": 35,
   "metadata": {},
   "outputs": [
    {
     "data": {
      "text/plain": [
       "{5, 7, 9}"
      ]
     },
     "execution_count": 35,
     "metadata": {},
     "output_type": "execute_result"
    },
    {
     "data": {
      "text/plain": [
       "{2, 3, 5, 7, 8, 9, 10}"
      ]
     },
     "execution_count": 35,
     "metadata": {},
     "output_type": "execute_result"
    },
    {
     "data": {
      "text/plain": [
       "{2, 3}"
      ]
     },
     "execution_count": 35,
     "metadata": {},
     "output_type": "execute_result"
    },
    {
     "data": {
      "text/plain": [
       "{2, 3, 8, 10}"
      ]
     },
     "execution_count": 35,
     "metadata": {},
     "output_type": "execute_result"
    }
   ],
   "source": [
    "num_set = {2,3,5,7,9}\n",
    "even_set = {5,7,8,9,10}\n",
    "num_set & even_set   #都有的\n",
    "num_set | even_set   #只要之中有的\n",
    "num_set - even_set   #后一个中没有的\n",
    "# num_set + even_set    #TypeError: unsupported operand type(s) for +: 'set' and 'set'\n",
    "num_set ^ even_set   #不共有的\n"
   ]
  },
  {
   "cell_type": "code",
   "execution_count": 44,
   "metadata": {},
   "outputs": [
    {
     "data": {
      "text/plain": [
       "{'a', 'b'}"
      ]
     },
     "execution_count": 44,
     "metadata": {},
     "output_type": "execute_result"
    },
    {
     "data": {
      "text/plain": [
       "{'1', 'a', 'b', 'c'}"
      ]
     },
     "execution_count": 44,
     "metadata": {},
     "output_type": "execute_result"
    },
    {
     "data": {
      "text/plain": [
       "set()"
      ]
     },
     "execution_count": 44,
     "metadata": {},
     "output_type": "execute_result"
    },
    {
     "data": {
      "text/plain": [
       "{'1', 'c'}"
      ]
     },
     "execution_count": 44,
     "metadata": {},
     "output_type": "execute_result"
    },
    {
     "data": {
      "text/plain": [
       "True"
      ]
     },
     "execution_count": 44,
     "metadata": {},
     "output_type": "execute_result"
    }
   ],
   "source": [
    "uu = {\"a\",\"b\",\"b\"}\n",
    "uuu = {\"1\",\"a\",\"b\",\"c\"}\n",
    "uu & uuu    # <==>  uu and uuu\n",
    "uu | uuu    # <==> uu or uuu\n",
    "uu - uuu\n",
    "uu ^ uuu\n",
    "uu not in uuu"
   ]
  },
  {
   "cell_type": "markdown",
   "metadata": {},
   "source": [
    "### Convert into List | Tuple"
   ]
  },
  {
   "cell_type": "code",
   "execution_count": 50,
   "metadata": {},
   "outputs": [
    {
     "data": {
      "text/plain": [
       "['a', 's', 'd', 'f', 'g']"
      ]
     },
     "execution_count": 50,
     "metadata": {},
     "output_type": "execute_result"
    },
    {
     "data": {
      "text/plain": [
       "['asdfg', 'asdfgh']"
      ]
     },
     "execution_count": 50,
     "metadata": {},
     "output_type": "execute_result"
    },
    {
     "data": {
      "text/plain": [
       "['asdfg']"
      ]
     },
     "execution_count": 50,
     "metadata": {},
     "output_type": "execute_result"
    },
    {
     "data": {
      "text/plain": [
       "[5, 2]"
      ]
     },
     "execution_count": 50,
     "metadata": {},
     "output_type": "execute_result"
    },
    {
     "data": {
      "text/plain": [
       "['asdfg', 'asdfgh']"
      ]
     },
     "execution_count": 50,
     "metadata": {},
     "output_type": "execute_result"
    },
    {
     "data": {
      "text/plain": [
       "('a', 's', 'd', 'f', 'g')"
      ]
     },
     "execution_count": 50,
     "metadata": {},
     "output_type": "execute_result"
    },
    {
     "data": {
      "text/plain": [
       "('asdfg', 'asdfgh')"
      ]
     },
     "execution_count": 50,
     "metadata": {},
     "output_type": "execute_result"
    },
    {
     "data": {
      "text/plain": [
       "('asdfg',)"
      ]
     },
     "execution_count": 50,
     "metadata": {},
     "output_type": "execute_result"
    },
    {
     "data": {
      "text/plain": [
       "(5, 2)"
      ]
     },
     "execution_count": 50,
     "metadata": {},
     "output_type": "execute_result"
    },
    {
     "data": {
      "text/plain": [
       "('asdfg', 'asdfgh')"
      ]
     },
     "execution_count": 50,
     "metadata": {},
     "output_type": "execute_result"
    }
   ],
   "source": [
    "list(\"asdfg\")\n",
    "list((\"asdfg\",\"asdfgh\"))\n",
    "list({\"asdfg\"})\n",
    "list({5:\"asdfg\",2:\"asdfgh\"})            # dict2list just keep the key!!! Can not be ordered, but can use \"sorted()\" function\n",
    "list({5:\"asdfg\",2:\"asdfgh\"}.values())   # dict2list to keep the value, need to add \".values()\"!!!\n",
    "tuple(\"asdfg\")\n",
    "tuple((\"asdfg\",\"asdfgh\"))\n",
    "tuple({\"asdfg\"})\n",
    "tuple({5:\"asdfg\",2:\"asdfgh\"})            # dict2tuple just keep the key!!! Can not be ordered, but can use \"sorted()\" function\n",
    "tuple({5:\"asdfg\",2:\"asdfgh\"}.values())   # dict2tuple to keep the value, need to add \".values()\"!!!"
   ]
  },
  {
   "cell_type": "markdown",
   "metadata": {},
   "source": [
    "### Convert into Dictionary"
   ]
  },
  {
   "cell_type": "code",
   "execution_count": 53,
   "metadata": {},
   "outputs": [
    {
     "ename": "TypeError",
     "evalue": "dict expected at most 1 arguments, got 2",
     "output_type": "error",
     "traceback": [
      "\u001b[1;31m---------------------------------------------------------------------------\u001b[0m",
      "\u001b[1;31mTypeError\u001b[0m                                 Traceback (most recent call last)",
      "\u001b[1;32m<ipython-input-53-437b0f0ef635>\u001b[0m in \u001b[0;36m<module>\u001b[1;34m\u001b[0m\n\u001b[0;32m      1\u001b[0m \u001b[1;31m#element need to more than 2\u001b[0m\u001b[1;33m\u001b[0m\u001b[1;33m\u001b[0m\u001b[1;33m\u001b[0m\u001b[0m\n\u001b[1;32m----> 2\u001b[1;33m \u001b[0mdict\u001b[0m\u001b[1;33m(\u001b[0m\u001b[1;34m\"a\"\u001b[0m\u001b[1;33m,\u001b[0m\u001b[1;34m\"b\"\u001b[0m\u001b[1;33m)\u001b[0m\u001b[1;33m\u001b[0m\u001b[1;33m\u001b[0m\u001b[0m\n\u001b[0m\u001b[0;32m      3\u001b[0m \u001b[0mdict\u001b[0m\u001b[1;33m(\u001b[0m\u001b[1;33m(\u001b[0m\u001b[1;34m\"a\"\u001b[0m\u001b[1;33m,\u001b[0m\u001b[1;34m\"b\"\u001b[0m\u001b[1;33m)\u001b[0m\u001b[1;33m)\u001b[0m   \u001b[1;31m#ValueError: dictionary update sequence element #0 has length 1; 2 is required\u001b[0m\u001b[1;33m\u001b[0m\u001b[1;33m\u001b[0m\u001b[0m\n",
      "\u001b[1;31mTypeError\u001b[0m: dict expected at most 1 arguments, got 2"
     ]
    }
   ],
   "source": [
    "dict(\"a\",\"b\",\"c\")        #TypeError: dict expected at most 1 arguments, got 3\n",
    "dict((\"a\",\"b\",\"c\"))      #ValueError: dictionary update sequence element #0 has length 1; 2 is required\n",
    "dict([\"a\",\"b\",\"c\"])      #ValueError: dictionary update sequence element #0 has length 1; 2 is required\n",
    "dict([\"abc\",\"bc\",\"cd\"])  #ValueError: dictionary update sequence element #0 has length 3; 2 is required"
   ]
  },
  {
   "cell_type": "code",
   "execution_count": 67,
   "metadata": {},
   "outputs": [
    {
     "data": {
      "text/plain": [
       "{'a': 'b', 'b': 'c', 'c': 'd'}"
      ]
     },
     "execution_count": 67,
     "metadata": {},
     "output_type": "execute_result"
    },
    {
     "data": {
      "text/plain": [
       "{'a': 'b', 'b': 'c', 'c': 'd'}"
      ]
     },
     "execution_count": 67,
     "metadata": {},
     "output_type": "execute_result"
    },
    {
     "data": {
      "text/plain": [
       "{'b': 'c', 'c': 'd', 'a': 'b'}"
      ]
     },
     "execution_count": 67,
     "metadata": {},
     "output_type": "execute_result"
    },
    {
     "data": {
      "text/plain": [
       "{'ab': 'ba', 'b': 'c', 'c': 'd'}"
      ]
     },
     "execution_count": 67,
     "metadata": {},
     "output_type": "execute_result"
    },
    {
     "data": {
      "text/plain": [
       "{'ab': 'ba', 1: 2, 'b': 'c', 'c': 'd'}"
      ]
     },
     "execution_count": 67,
     "metadata": {},
     "output_type": "execute_result"
    }
   ],
   "source": [
    "dict((\"ab\",\"bc\",\"cd\"))\n",
    "dict([\"ab\",\"bc\",\"cd\"])\n",
    "dict({\"ab\",\"bc\",\"cd\"})\n",
    "dict(([\"ab\",\"ba\"],\"bc\",\"cd\"))\n",
    "dict(([\"ab\",\"ba\"],(1,2),\"bc\",\"cd\"))"
   ]
  },
  {
   "cell_type": "code",
   "execution_count": 78,
   "metadata": {},
   "outputs": [
    {
     "data": {
      "text/plain": [
       "<zip at 0x6d7f888>"
      ]
     },
     "execution_count": 78,
     "metadata": {},
     "output_type": "execute_result"
    },
    {
     "data": {
      "text/plain": [
       "[('a', 'h'),\n",
       " ('b', 'i'),\n",
       " ('c', 'j'),\n",
       " ('d', 'k'),\n",
       " ('e', 'l'),\n",
       " ('f', 'm'),\n",
       " ('g', 'n')]"
      ]
     },
     "execution_count": 78,
     "metadata": {},
     "output_type": "execute_result"
    },
    {
     "data": {
      "text/plain": [
       "{'a': 'h', 'b': 'i', 'c': 'j', 'd': 'k', 'e': 'l', 'f': 'm', 'g': 'n'}"
      ]
     },
     "execution_count": 78,
     "metadata": {},
     "output_type": "execute_result"
    }
   ],
   "source": [
    "s1 = \"abcdefg\"\n",
    "s2 = \"hijklmn\"\n",
    "zip(s1,s2)\n",
    "list(zip(s1,s2))\n",
    "dict(list(zip(s1,s2)))"
   ]
  },
  {
   "cell_type": "code",
   "execution_count": 83,
   "metadata": {},
   "outputs": [
    {
     "data": {
      "text/plain": [
       "[('a', 'h'),\n",
       " ('b', 'i'),\n",
       " ('c', 'j'),\n",
       " ('d', 'k'),\n",
       " ('e', 'l'),\n",
       " ('f', 'm'),\n",
       " ('g', 'n')]"
      ]
     },
     "execution_count": 83,
     "metadata": {},
     "output_type": "execute_result"
    },
    {
     "data": {
      "text/plain": [
       "('a', 'b', 'c', 'd', 'e', 'f', 'g')"
      ]
     },
     "execution_count": 83,
     "metadata": {},
     "output_type": "execute_result"
    },
    {
     "data": {
      "text/plain": [
       "tuple"
      ]
     },
     "execution_count": 83,
     "metadata": {},
     "output_type": "execute_result"
    },
    {
     "data": {
      "text/plain": [
       "('h', 'i', 'j', 'k', 'l', 'm', 'n')"
      ]
     },
     "execution_count": 83,
     "metadata": {},
     "output_type": "execute_result"
    }
   ],
   "source": [
    "s1 = \"abcdefg\"\n",
    "s2 = \"hijklmn\"\n",
    "s34 = list(zip(s1,s2))\n",
    "s34\n",
    "s3,s4 = zip(*s34)    #unzip: * is a splat operator, it is used to unpack argument list; foo(*[1,2,3]) == foo(1,2,3)\n",
    "s3\n",
    "type(s3)\n",
    "s4"
   ]
  },
  {
   "cell_type": "code",
   "execution_count": 85,
   "metadata": {},
   "outputs": [
    {
     "data": {
      "text/plain": [
       "zip"
      ]
     },
     "execution_count": 85,
     "metadata": {},
     "output_type": "execute_result"
    }
   ],
   "source": [
    "type(zip(s1,s2))"
   ]
  },
  {
   "cell_type": "markdown",
   "metadata": {},
   "source": [
    "### Mutable & Immutable\n",
    "#### Immutalbe\n",
    "- bool : Boolean value\n",
    "- int : integer (arbitrary magnitude)\n",
    "- float : floating point number\n",
    "- tuple : immutable sequence of objects\n",
    "- str : character string\n",
    "- frozenset : immutable form of set class\n",
    "- dict : associative mapping (aka dictionary)\n",
    "\n",
    "#### Mutalbe  (Could not be dict-key)\n",
    "- list : mutable sequence of objects\n",
    "- set : unorder set of distinct objects\n"
   ]
  },
  {
   "cell_type": "markdown",
   "metadata": {},
   "source": [
    "> 1.   这是第一行列表项。\n",
    "> 2.   这是第二行列表项。\n",
    ">\n",
    "> 给出一些例子代码：\n",
    "> \n",
    ">     return shell_exec(\"echo $input | $markdown_script\");"
   ]
  },
  {
   "cell_type": "code",
   "execution_count": 93,
   "metadata": {},
   "outputs": [
    {
     "data": {
      "text/plain": [
       "range(0, 10)"
      ]
     },
     "execution_count": 93,
     "metadata": {},
     "output_type": "execute_result"
    },
    {
     "data": {
      "text/plain": [
       "[0, 1, 2, 3, 4, 5, 6, 7, 8, 9]"
      ]
     },
     "execution_count": 93,
     "metadata": {},
     "output_type": "execute_result"
    },
    {
     "data": {
      "text/plain": [
       "[1, 3, 5, 7, 9]"
      ]
     },
     "execution_count": 93,
     "metadata": {},
     "output_type": "execute_result"
    },
    {
     "data": {
      "text/plain": [
       "[1, 1, 4, 27, 256, 3125, 46656, 823543, 16777216, 387420489]"
      ]
     },
     "execution_count": 93,
     "metadata": {},
     "output_type": "execute_result"
    }
   ],
   "source": [
    "#Separate numbers\n",
    "#generater --> list\n",
    "num_list = range(10)\n",
    "num_list\n",
    "list_accept_range = [x for x in range(10)]\n",
    "list_accept_range\n",
    "odd = [x for x in num_list if x % 2 == 1]\n",
    "odd\n",
    "sqrt = [x**x for x in num_list]\n",
    "sqrt"
   ]
  },
  {
   "cell_type": "code",
   "execution_count": 102,
   "metadata": {},
   "outputs": [
    {
     "data": {
      "text/plain": [
       "[4, 25, 64, 121, 196, 289, 400, 529, 676, 841]"
      ]
     },
     "execution_count": 102,
     "metadata": {},
     "output_type": "execute_result"
    },
    {
     "data": {
      "text/plain": [
       "[1,\n",
       " 2,\n",
       " 4,\n",
       " 8,\n",
       " 16,\n",
       " 32,\n",
       " 64,\n",
       " 128,\n",
       " 256,\n",
       " 512,\n",
       " 1024,\n",
       " 2048,\n",
       " 4096,\n",
       " 8192,\n",
       " 16384,\n",
       " 32768,\n",
       " 65536,\n",
       " 131072,\n",
       " 262144,\n",
       " 524288,\n",
       " 1048576]"
      ]
     },
     "execution_count": 102,
     "metadata": {},
     "output_type": "execute_result"
    }
   ],
   "source": [
    "import math\n",
    "#2*2,,5*5,8*8,11*11,...\n",
    "num3_2 = [x*x for x in range(int(math.sqrt(1000))) if x % 3 == 2]\n",
    "num3_2\n",
    "num_power2 = [2**x for x in range(21)]\n",
    "num_power2"
   ]
  },
  {
   "cell_type": "code",
   "execution_count": 87,
   "metadata": {},
   "outputs": [
    {
     "data": {
      "text/plain": [
       "[(1, 1), (1, 2), (2, 1), (2, 2), (3, 1), (3, 2)]"
      ]
     },
     "execution_count": 87,
     "metadata": {},
     "output_type": "execute_result"
    }
   ],
   "source": [
    "#Nested\n",
    "rows = range(1,4)\n",
    "cols = range(1,3)\n",
    "cells = []\n",
    "for row in rows:\n",
    "    for col in cols:\n",
    "        cells.append((row,col))\n",
    "        \n",
    "cells"
   ]
  },
  {
   "cell_type": "code",
   "execution_count": 103,
   "metadata": {},
   "outputs": [
    {
     "data": {
      "text/plain": [
       "[(1, 1), (1, 2), (2, 1), (2, 2), (3, 1), (3, 2)]"
      ]
     },
     "execution_count": 103,
     "metadata": {},
     "output_type": "execute_result"
    }
   ],
   "source": [
    "#Above loop can be written in one line\n",
    "cells_list = [(row,col) for row in range(1,4) for col in range(1,3)]\n",
    "cells_list"
   ]
  },
  {
   "cell_type": "code",
   "execution_count": 108,
   "metadata": {},
   "outputs": [
    {
     "data": {
      "text/plain": [
       "'abcd125'"
      ]
     },
     "execution_count": 108,
     "metadata": {},
     "output_type": "execute_result"
    },
    {
     "data": {
      "text/plain": [
       "['a', 'b', 'c', 'd', '1', '2', '5']"
      ]
     },
     "execution_count": 108,
     "metadata": {},
     "output_type": "execute_result"
    },
    {
     "data": {
      "text/plain": [
       "'abcd125'"
      ]
     },
     "execution_count": 108,
     "metadata": {},
     "output_type": "execute_result"
    },
    {
     "data": {
      "text/plain": [
       "'abcd125'"
      ]
     },
     "execution_count": 108,
     "metadata": {},
     "output_type": "execute_result"
    },
    {
     "data": {
      "text/plain": [
       "'abcd125'"
      ]
     },
     "execution_count": 108,
     "metadata": {},
     "output_type": "execute_result"
    }
   ],
   "source": [
    "#Better performance\n",
    "\n",
    "container = [\"a\",\"b\",\"c\",\"d\",1,2,5]\n",
    "string_buid = \"\"\n",
    "for i in container:\n",
    "    string_buid += str(i)\n",
    "string_buid\n",
    "\n",
    "#also\n",
    "\n",
    "builder_list = []\n",
    "for i in container:\n",
    "    builder_list.append(str(i))\n",
    "builder_list\n",
    "\"\".join(builder_list)\n",
    "\n",
    "#equal to :\n",
    "\n",
    "\"\".join([str(string) for string in container])\n",
    "\n",
    "\"\".join(map(str,container))"
   ]
  },
  {
   "cell_type": "code",
   "execution_count": null,
   "metadata": {},
   "outputs": [],
   "source": []
  },
  {
   "cell_type": "code",
   "execution_count": null,
   "metadata": {},
   "outputs": [],
   "source": []
  },
  {
   "cell_type": "code",
   "execution_count": null,
   "metadata": {},
   "outputs": [],
   "source": []
  },
  {
   "cell_type": "code",
   "execution_count": null,
   "metadata": {},
   "outputs": [],
   "source": []
  },
  {
   "cell_type": "code",
   "execution_count": null,
   "metadata": {},
   "outputs": [],
   "source": []
  },
  {
   "cell_type": "code",
   "execution_count": null,
   "metadata": {},
   "outputs": [],
   "source": []
  },
  {
   "cell_type": "code",
   "execution_count": null,
   "metadata": {},
   "outputs": [],
   "source": []
  }
 ],
 "metadata": {
  "kernelspec": {
   "display_name": "Python 3",
   "language": "python",
   "name": "python3"
  },
  "language_info": {
   "codemirror_mode": {
    "name": "ipython",
    "version": 3
   },
   "file_extension": ".py",
   "mimetype": "text/x-python",
   "name": "python",
   "nbconvert_exporter": "python",
   "pygments_lexer": "ipython3",
   "version": "3.7.1"
  }
 },
 "nbformat": 4,
 "nbformat_minor": 2
}
